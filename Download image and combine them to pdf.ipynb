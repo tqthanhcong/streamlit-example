{
  "nbformat": 4,
  "nbformat_minor": 0,
  "metadata": {
    "colab": {
      "name": "Untitled5.ipynb",
      "provenance": [],
      "authorship_tag": "ABX9TyM3HOanNZTl9N0bqkxazha5",
      "include_colab_link": true
    },
    "kernelspec": {
      "name": "python3",
      "display_name": "Python 3"
    },
    "language_info": {
      "name": "python"
    }
  },
  "cells": [
    {
      "cell_type": "markdown",
      "metadata": {
        "id": "view-in-github",
        "colab_type": "text"
      },
      "source": [
        "<a href=\"https://colab.research.google.com/github/tqthanhcong/streamlit-example/blob/master/Download%20image%20and%20combine%20them%20to%20pdf.ipynb\" target=\"_parent\"><img src=\"https://colab.research.google.com/assets/colab-badge.svg\" alt=\"Open In Colab\"/></a>"
      ]
    },
    {
      "cell_type": "code",
      "metadata": {
        "id": "MxMJIfenVpPv"
      },
      "source": [
        "import requests"
      ],
      "execution_count": 1,
      "outputs": []
    },
    {
      "cell_type": "code",
      "metadata": {
        "id": "BSSh9IsgVr33"
      },
      "source": [
        "url = \"http://ebook.business.gov.vn/images/Slide73.JPG\"\n",
        "r=requests.get(url)\n",
        "with open(\"73.jpg\",\"wb\") as file:\n",
        "  file.write(r.content)"
      ],
      "execution_count": 3,
      "outputs": []
    },
    {
      "cell_type": "code",
      "metadata": {
        "id": "kgzzcvqpWK8j"
      },
      "source": [
        "for i in range(1,7):\n",
        "  url = \"http://ebook.business.gov.vn/images/Slide\" + str(i) + \".JPG\"\n",
        "  r=requests.get(url)\n",
        "  with open(str(i) + \".jpg\",\"wb\") as file:\n",
        "    file.write(r.content)"
      ],
      "execution_count": 10,
      "outputs": []
    },
    {
      "cell_type": "code",
      "metadata": {
        "colab": {
          "base_uri": "https://localhost:8080/"
        },
        "id": "sddht0-aXo27",
        "outputId": "e0b2b4c8-ee83-4688-f22e-493c5b9f24d1"
      },
      "source": [
        "!pip install fpdf"
      ],
      "execution_count": 11,
      "outputs": [
        {
          "output_type": "stream",
          "text": [
            "Collecting fpdf\n",
            "  Downloading https://files.pythonhosted.org/packages/37/c6/608a9e6c172bf9124aa687ec8b9f0e8e5d697d59a5f4fad0e2d5ec2a7556/fpdf-1.7.2.tar.gz\n",
            "Building wheels for collected packages: fpdf\n",
            "  Building wheel for fpdf (setup.py) ... \u001b[?25l\u001b[?25hdone\n",
            "  Created wheel for fpdf: filename=fpdf-1.7.2-py2.py3-none-any.whl size=40722 sha256=5c6b90fe67db5327c9164aba112e39221aef4f9f70a7ec602874a93ae772423f\n",
            "  Stored in directory: /root/.cache/pip/wheels/9a/e9/77/4554ff5c99bc3f487c8d69620d8c41d99d54e9c54ab20ef4c9\n",
            "Successfully built fpdf\n",
            "Installing collected packages: fpdf\n",
            "Successfully installed fpdf-1.7.2\n"
          ],
          "name": "stdout"
        }
      ]
    },
    {
      "cell_type": "code",
      "metadata": {
        "colab": {
          "base_uri": "https://localhost:8080/"
        },
        "id": "XgZw-zs-XprM",
        "outputId": "efe18df0-502a-4a8c-d099-2e5def1473e3"
      },
      "source": [
        "imagelist = []\n",
        "for i in range(1,7):\n",
        "  imagelist.append(str(i) + \".jpg\")\n",
        "imagelist"
      ],
      "execution_count": 12,
      "outputs": [
        {
          "output_type": "execute_result",
          "data": {
            "text/plain": [
              "['1.jpg', '2.jpg', '3.jpg', '4.jpg', '5.jpg', '6.jpg']"
            ]
          },
          "metadata": {
            "tags": []
          },
          "execution_count": 12
        }
      ]
    },
    {
      "cell_type": "code",
      "metadata": {
        "colab": {
          "base_uri": "https://localhost:8080/",
          "height": 36
        },
        "id": "MMhEtGZ9Xr6J",
        "outputId": "5ca1cc93-ed6c-4e9f-8cea-c8c85f392b5d"
      },
      "source": [
        "from fpdf import FPDF\n",
        "pdf = FPDF()\n",
        "# imagelist is the list with all image filenames\n",
        "for image in imagelist:\n",
        "    pdf.add_page()\n",
        "    pdf.image(image)\n",
        "pdf.output(\"yourfile.pdf\", \"F\")"
      ],
      "execution_count": 14,
      "outputs": [
        {
          "output_type": "execute_result",
          "data": {
            "application/vnd.google.colaboratory.intrinsic+json": {
              "type": "string"
            },
            "text/plain": [
              "''"
            ]
          },
          "metadata": {
            "tags": []
          },
          "execution_count": 14
        }
      ]
    },
    {
      "cell_type": "code",
      "metadata": {
        "id": "hRCxg0ODYbj2"
      },
      "source": [
        "from PIL import Image"
      ],
      "execution_count": 15,
      "outputs": []
    },
    {
      "cell_type": "code",
      "metadata": {
        "id": "NFqoSUPdYcum"
      },
      "source": [
        "im_list = []\n",
        "im1=Image.open(\"1.jpg\")\n",
        "for i in range(2,7):\n",
        "  im_list.append(Image.open(str(i) + \".jpg\"))\n",
        "\n",
        "pdf1_filename = \"bbd1.pdf\"\n",
        "\n",
        "im1.save(pdf1_filename, \"PDF\" ,resolution=100.0, save_all=True, append_images=im_list)"
      ],
      "execution_count": 18,
      "outputs": []
    }
  ]
}