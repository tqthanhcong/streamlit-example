{
  "nbformat": 4,
  "nbformat_minor": 0,
  "metadata": {
    "colab": {
      "name": "Get bank saving interest rate.ipynb",
      "provenance": [],
      "collapsed_sections": [
        "sCVUERfEoG5u",
        "cVJUb-HboNBJ"
      ],
      "include_colab_link": true
    },
    "kernelspec": {
      "display_name": "Python 3",
      "language": "python",
      "name": "python3"
    },
    "language_info": {
      "codemirror_mode": {
        "name": "ipython",
        "version": 3
      },
      "file_extension": ".py",
      "mimetype": "text/x-python",
      "name": "python",
      "nbconvert_exporter": "python",
      "pygments_lexer": "ipython3",
      "version": "3.8.3"
    }
  },
  "cells": [
    {
      "cell_type": "markdown",
      "metadata": {
        "id": "view-in-github",
        "colab_type": "text"
      },
      "source": [
        "<a href=\"https://colab.research.google.com/github/tqthanhcong/streamlit-example/blob/master/Get_bank_saving_interest_rate.ipynb\" target=\"_parent\"><img src=\"https://colab.research.google.com/assets/colab-badge.svg\" alt=\"Open In Colab\"/></a>"
      ]
    },
    {
      "cell_type": "markdown",
      "metadata": {
        "id": "sCVUERfEoG5u"
      },
      "source": [
        "# Import package"
      ]
    },
    {
      "cell_type": "code",
      "metadata": {
        "colab": {
          "base_uri": "https://localhost:8080/"
        },
        "id": "bSm6Dm6otS8Z",
        "outputId": "cca9331b-69ae-4b6f-e95e-bfece8effb3f"
      },
      "source": [
        "!pip install -q tabula-py #extracting table from pdf\n",
        "!pip install img2pdf\n",
        "!sudo apt install tesseract-ocr #OCR\n",
        "!pip install pytesseract #OCR\n",
        "!pip install kora #selenium + chromedriver.exe for google colab"
      ],
      "execution_count": null,
      "outputs": [
        {
          "output_type": "stream",
          "text": [
            "\u001b[K     |████████████████████████████████| 11.7MB 256kB/s \n",
            "\u001b[?25hCollecting img2pdf\n",
            "\u001b[?25l  Downloading https://files.pythonhosted.org/packages/cf/af/889d10143566ec4fcdc66dcb1be948c6018f1cf99071225c7c0707feb1d3/img2pdf-0.4.1-py3-none-any.whl (41kB)\n",
            "\u001b[K     |████████████████████████████████| 51kB 3.7MB/s \n",
            "\u001b[?25hCollecting pikepdf\n",
            "\u001b[?25l  Downloading https://files.pythonhosted.org/packages/d1/58/117e816feb3be39a46389c8d41302859ed499dded56ec15efe35cc2b35f2/pikepdf-2.12.1-cp37-cp37m-manylinux2010_x86_64.whl (1.9MB)\n",
            "\u001b[K     |████████████████████████████████| 1.9MB 13.9MB/s \n",
            "\u001b[?25hRequirement already satisfied: Pillow in /usr/local/lib/python3.7/dist-packages (from img2pdf) (7.1.2)\n",
            "Requirement already satisfied: lxml>=4.0 in /usr/local/lib/python3.7/dist-packages (from pikepdf->img2pdf) (4.2.6)\n",
            "Installing collected packages: pikepdf, img2pdf\n",
            "Successfully installed img2pdf-0.4.1 pikepdf-2.12.1\n",
            "Reading package lists... Done\n",
            "Building dependency tree       \n",
            "Reading state information... Done\n",
            "The following package was automatically installed and is no longer required:\n",
            "  libnvidia-common-460\n",
            "Use 'sudo apt autoremove' to remove it.\n",
            "The following additional packages will be installed:\n",
            "  tesseract-ocr-eng tesseract-ocr-osd\n",
            "The following NEW packages will be installed:\n",
            "  tesseract-ocr tesseract-ocr-eng tesseract-ocr-osd\n",
            "0 upgraded, 3 newly installed, 0 to remove and 34 not upgraded.\n",
            "Need to get 4,795 kB of archives.\n",
            "After this operation, 15.8 MB of additional disk space will be used.\n",
            "Get:1 http://archive.ubuntu.com/ubuntu bionic/universe amd64 tesseract-ocr-eng all 4.00~git24-0e00fe6-1.2 [1,588 kB]\n",
            "Get:2 http://archive.ubuntu.com/ubuntu bionic/universe amd64 tesseract-ocr-osd all 4.00~git24-0e00fe6-1.2 [2,989 kB]\n",
            "Get:3 http://archive.ubuntu.com/ubuntu bionic/universe amd64 tesseract-ocr amd64 4.00~git2288-10f4998a-2 [218 kB]\n",
            "Fetched 4,795 kB in 2s (2,933 kB/s)\n",
            "debconf: unable to initialize frontend: Dialog\n",
            "debconf: (No usable dialog-like program is installed, so the dialog based frontend cannot be used. at /usr/share/perl5/Debconf/FrontEnd/Dialog.pm line 76, <> line 3.)\n",
            "debconf: falling back to frontend: Readline\n",
            "debconf: unable to initialize frontend: Readline\n",
            "debconf: (This frontend requires a controlling tty.)\n",
            "debconf: falling back to frontend: Teletype\n",
            "dpkg-preconfigure: unable to re-open stdin: \n",
            "Selecting previously unselected package tesseract-ocr-eng.\n",
            "(Reading database ... 160706 files and directories currently installed.)\n",
            "Preparing to unpack .../tesseract-ocr-eng_4.00~git24-0e00fe6-1.2_all.deb ...\n",
            "Unpacking tesseract-ocr-eng (4.00~git24-0e00fe6-1.2) ...\n",
            "Selecting previously unselected package tesseract-ocr-osd.\n",
            "Preparing to unpack .../tesseract-ocr-osd_4.00~git24-0e00fe6-1.2_all.deb ...\n",
            "Unpacking tesseract-ocr-osd (4.00~git24-0e00fe6-1.2) ...\n",
            "Selecting previously unselected package tesseract-ocr.\n",
            "Preparing to unpack .../tesseract-ocr_4.00~git2288-10f4998a-2_amd64.deb ...\n",
            "Unpacking tesseract-ocr (4.00~git2288-10f4998a-2) ...\n",
            "Setting up tesseract-ocr-osd (4.00~git24-0e00fe6-1.2) ...\n",
            "Setting up tesseract-ocr-eng (4.00~git24-0e00fe6-1.2) ...\n",
            "Setting up tesseract-ocr (4.00~git2288-10f4998a-2) ...\n",
            "Processing triggers for man-db (2.8.3-2ubuntu0.1) ...\n",
            "Collecting pytesseract\n",
            "  Downloading https://files.pythonhosted.org/packages/a0/e6/a4e9fc8a93c1318540e8de6d8d4beb5749b7960388a7c7f27799fc2dd016/pytesseract-0.3.7.tar.gz\n",
            "Requirement already satisfied: Pillow in /usr/local/lib/python3.7/dist-packages (from pytesseract) (7.1.2)\n",
            "Building wheels for collected packages: pytesseract\n",
            "  Building wheel for pytesseract (setup.py) ... \u001b[?25l\u001b[?25hdone\n",
            "  Created wheel for pytesseract: filename=pytesseract-0.3.7-py2.py3-none-any.whl size=13945 sha256=923923916da15c3cd1e9081a2f349bd384f60eb3da411de51d9959333e25d0c4\n",
            "  Stored in directory: /root/.cache/pip/wheels/81/20/7e/1dd0daad1575d5260916bb1e9781246430647adaef4b3ca3b3\n",
            "Successfully built pytesseract\n",
            "Installing collected packages: pytesseract\n",
            "Successfully installed pytesseract-0.3.7\n",
            "Collecting kora\n",
            "\u001b[?25l  Downloading https://files.pythonhosted.org/packages/5b/0d/3d9ab9ee747f0925b038e8350ce137276a7a4730a96a3516485dc1b87ba3/kora-0.9.19-py3-none-any.whl (57kB)\n",
            "\u001b[K     |████████████████████████████████| 61kB 3.9MB/s \n",
            "\u001b[?25hCollecting fastcore\n",
            "\u001b[?25l  Downloading https://files.pythonhosted.org/packages/d8/b0/f1fbf554e0bf3c76e1bdc3b82eedfe41fcf656479586be38c64421082b1b/fastcore-1.3.20-py3-none-any.whl (53kB)\n",
            "\u001b[K     |████████████████████████████████| 61kB 5.5MB/s \n",
            "\u001b[?25hRequirement already satisfied: ipython in /usr/local/lib/python3.7/dist-packages (from kora) (5.5.0)\n",
            "Requirement already satisfied: pip in /usr/local/lib/python3.7/dist-packages (from fastcore->kora) (19.3.1)\n",
            "Requirement already satisfied: packaging in /usr/local/lib/python3.7/dist-packages (from fastcore->kora) (20.9)\n",
            "Requirement already satisfied: pygments in /usr/local/lib/python3.7/dist-packages (from ipython->kora) (2.6.1)\n",
            "Requirement already satisfied: prompt-toolkit<2.0.0,>=1.0.4 in /usr/local/lib/python3.7/dist-packages (from ipython->kora) (1.0.18)\n",
            "Requirement already satisfied: pickleshare in /usr/local/lib/python3.7/dist-packages (from ipython->kora) (0.7.5)\n",
            "Requirement already satisfied: setuptools>=18.5 in /usr/local/lib/python3.7/dist-packages (from ipython->kora) (56.1.0)\n",
            "Requirement already satisfied: traitlets>=4.2 in /usr/local/lib/python3.7/dist-packages (from ipython->kora) (5.0.5)\n",
            "Requirement already satisfied: simplegeneric>0.8 in /usr/local/lib/python3.7/dist-packages (from ipython->kora) (0.8.1)\n",
            "Requirement already satisfied: pexpect; sys_platform != \"win32\" in /usr/local/lib/python3.7/dist-packages (from ipython->kora) (4.8.0)\n",
            "Requirement already satisfied: decorator in /usr/local/lib/python3.7/dist-packages (from ipython->kora) (4.4.2)\n",
            "Requirement already satisfied: pyparsing>=2.0.2 in /usr/local/lib/python3.7/dist-packages (from packaging->fastcore->kora) (2.4.7)\n",
            "Requirement already satisfied: wcwidth in /usr/local/lib/python3.7/dist-packages (from prompt-toolkit<2.0.0,>=1.0.4->ipython->kora) (0.2.5)\n",
            "Requirement already satisfied: six>=1.9.0 in /usr/local/lib/python3.7/dist-packages (from prompt-toolkit<2.0.0,>=1.0.4->ipython->kora) (1.15.0)\n",
            "Requirement already satisfied: ipython-genutils in /usr/local/lib/python3.7/dist-packages (from traitlets>=4.2->ipython->kora) (0.2.0)\n",
            "Requirement already satisfied: ptyprocess>=0.5 in /usr/local/lib/python3.7/dist-packages (from pexpect; sys_platform != \"win32\"->ipython->kora) (0.7.0)\n",
            "Installing collected packages: fastcore, kora\n",
            "Successfully installed fastcore-1.3.20 kora-0.9.19\n"
          ],
          "name": "stdout"
        }
      ]
    },
    {
      "cell_type": "code",
      "metadata": {
        "id": "CeTv8jznrg_5"
      },
      "source": [
        "#import essential package\n",
        "\n",
        "#dataframe\n",
        "import numpy as np\n",
        "import pandas as pd\n",
        "import json\n",
        "\n",
        "#scraping\n",
        "import requests\n",
        "from kora.selenium import wd\n",
        "from bs4 import BeautifulSoup\n",
        "import urllib.request\n",
        "\n",
        "#pdf handling\n",
        "import tabula #table from pdf\n",
        "import img2pdf #image to pdf\n",
        "\n",
        "#OCR\n",
        "import cv2 \n",
        "import pytesseract\n",
        "\n",
        "#time out\n",
        "from datetime import datetime\n",
        "from dateutil import tz\n",
        "import time\n",
        "import signal #timeout\n",
        "import re\n",
        "\n",
        "from contextlib import contextmanager"
      ],
      "execution_count": null,
      "outputs": []
    },
    {
      "cell_type": "markdown",
      "metadata": {
        "id": "cVJUb-HboNBJ"
      },
      "source": [
        "# Create function"
      ]
    },
    {
      "cell_type": "code",
      "metadata": {
        "id": "PFShn7mUt6X7"
      },
      "source": [
        "#function for setting timeout\n",
        "@contextmanager\n",
        "def timeout(time):\n",
        "    # Register a function to raise a TimeoutError on the signal.\n",
        "    signal.signal(signal.SIGALRM, raise_timeout)\n",
        "    # Schedule the signal to be sent after ``time``.\n",
        "    signal.alarm(time)\n",
        "\n",
        "    try:\n",
        "        yield\n",
        "    except TimeoutError:\n",
        "        pass\n",
        "    finally:\n",
        "        # Unregister the signal so it won't be triggered\n",
        "        # if the timeout is not reached.\n",
        "        signal.signal(signal.SIGALRM, signal.SIG_IGN)\n",
        "\n",
        "\n",
        "def raise_timeout(signum, frame):\n",
        "    raise TimeoutError"
      ],
      "execution_count": null,
      "outputs": []
    },
    {
      "cell_type": "code",
      "metadata": {
        "id": "QlhcVBUdrhAF"
      },
      "source": [
        "#Create function that extract table data from html\n",
        "def get_table(bank,url,attr,table_index,row_start,row_end,col_term,col_interest):\n",
        "  with timeout(10):\n",
        "    r = requests.get(url,verify=False)\n",
        "    html_doc = r.text\n",
        "    soup=BeautifulSoup(html_doc,'lxml')\n",
        "    table = soup.find_all('table',attrs=attr)[table_index]\n",
        "    df = pd.DataFrame(columns=range(0,1000), index = range(500))\n",
        "    row_marker = 0\n",
        "    for row in table.find_all('tr'):\n",
        "        column_marker = 0\n",
        "        columns = row.find_all('td')\n",
        "        for column in columns:\n",
        "            df.iat[row_marker,column_marker] = column.get_text()\n",
        "            column_marker += 1\n",
        "        row_marker += 1\n",
        "    df = df.iloc[row_start:row_end,[col_term,col_interest]]\n",
        "    df.columns = ['term','interest']\n",
        "    df['bank'] = bank\n",
        "    return df\n",
        "\n",
        "#function for converting html table to dataframe\n",
        "def html_to_df(table,df):\n",
        "  row_marker = 0\n",
        "  for row in table.find_all('tr'):\n",
        "    column_marker = 0\n",
        "    columns = row.find_all('td')\n",
        "    for column in columns:\n",
        "      df.iat[row_marker,column_marker] = column.get_text()\n",
        "      column_marker += 1\n",
        "    row_marker += 1\n",
        "  return df\n",
        "\n",
        "#Create function that extract table data from a json link\n",
        "def get_json(url):\n",
        "    r = requests.get(url)\n",
        "    html_doc = r.text\n",
        "    #chuyển dữ liệu trả về thành dataframe để xử lý và lọc\n",
        "    html_list = json.loads(html_doc)\n",
        "    return html_list\n",
        "\n",
        "#function for downloading pdf file\n",
        "def get_pdf_from_url(bank_name,url):\n",
        "  with timeout(20):\n",
        "    #r = requests.get(url)\n",
        "    opener = urllib.request.URLopener()\n",
        "    opener.addheader('User-Agent', 'whatever')\n",
        "    posi=url.rfind('.')\n",
        "    extension = url[posi:]\n",
        "    if (len(extension)>5)|(len(extension)<2):\n",
        "      extension='.pdf'\n",
        "    file_open, headers = opener.retrieve(url, bank_name + extension)\n",
        "    #file_open = open(bank_name + extension,'wb').write(r.content)\n",
        "   \n",
        "\n",
        "#function for extracting table from pdf file\n",
        "def extract_table(name,table_index,row_start,row_end,col_term,col_interest):\n",
        "  tables = tabula.read_pdf(name+'.pdf',pages='all',multiple_tables=True)\n",
        "  df = tables[table_index]\n",
        "  df=df.iloc[row_start:row_end,[col_term,col_interest]]\n",
        "  df.columns = ['term','interest']\n",
        "  df['bank'] = name\n",
        "  return df\n"
      ],
      "execution_count": null,
      "outputs": []
    },
    {
      "cell_type": "code",
      "metadata": {
        "id": "bnGhedmXadVd"
      },
      "source": [
        "#Create the original dataframe\n",
        "df_all = pd.DataFrame(columns = ['term','interest','bank'])\n",
        "\n",
        "#create error list\n",
        "err_list=[]"
      ],
      "execution_count": null,
      "outputs": []
    },
    {
      "cell_type": "markdown",
      "metadata": {
        "id": "Taw7c-9qoR7X"
      },
      "source": [
        "# Get interest from HTML Table"
      ]
    },
    {
      "cell_type": "code",
      "metadata": {
        "id": "W0U7xgWPOVcW"
      },
      "source": [
        "#list of link for each bank\n",
        "html_url = {'1. AGR':'https://www.agribank.com.vn/vn/lai-suat',\n",
        "            '3. CTG':'https://www.vietinbank.vn/web/home/vn/lai-suat',\n",
        "            '4. VCB':'https://portal.vietcombank.com.vn/UserControls/TVPortal.TyGia/pListLaiSuat.aspx?CusstomType=1&BacrhID=1&InrateType=&isEn=False&numAfter=2',\n",
        "            '11. LPB':'https://lienvietpostbank.com.vn/lai-suat',\n",
        "            '14. ABB':'https://www.abbank.vn/thong-tin/lai-suat-tiet-kiem-vnd.html',\n",
        "            '15. OCB':'https://www.ocb.com.vn/vi/lai-suat.html',\n",
        "            '16. SCB':'https://www.scb.com.vn/vie/detaillist/qa_interestrate_detail/QA_INTERESTRATE_NORMAL_SAVING_DEPOSIT/0?_=1599729793501',\n",
        "            '21. MSB':'https://www.msb.com.vn/Bieu-mau-Bieu-phi-va-Lai-suat/1177/3/Lai-suat',\n",
        "            '23. EAB':'https://kinhdoanh.dongabank.com.vn/widget/temp/-/DTSCDongaBankIView_WAR_DTSCDongaBankIERateportlet?type=tktt-vnd',\n",
        "            '25. NAB':'https://www.namabank.com.vn/lai-suat-tien-gui-vnd-nam',\n",
        "            '28. BVB':'https://www.vietcapitalbank.com.vn/personal',\n",
        "            '29. KLB':'https://laisuat.kienlongbank.com/lai-suat-ca-nhan',\n",
        "            '34. OCEAN':'http://oceanbank.vn/lai-suat.html',\n",
        "            '35. GPBANK':'https://www.gpbank.com.vn/InterestDetail'\n",
        "             }\n",
        "#html_index: table_index,row_start,row_end,col_term,col_interest\n",
        "html_index = {'1. AGR':[{},0,1,16,0,1],\n",
        "              '3. CTG':[{},0,3,21,0,1],\n",
        "              '4. VCB':[{},0,2,13,0,1],\n",
        "              '11. LPB':[{},1,0,26,0,4],\n",
        "              '14. ABB':[{},0,1,22,0,1],\n",
        "              '15. OCB':[{},0,1,13,0,1],\n",
        "              '16. SCB':[{},0,3,19,0,1],\n",
        "              '21. MSB':[{},2,2,19,0,1],\n",
        "              '23. EAB':[{},1,1,20,0,3],\n",
        "              '25. NAB':[{},0,1,39,0,1],\n",
        "              '28. BVB':[{},3,0,19,0,3],\n",
        "              '29. KLB':[{},1,3,24,0,1],\n",
        "              '34. OCEAN':[{'class':'tb_lstk tble_2'},0,3,24,0,1],\n",
        "              '35. GPBANK':[{},0,2,22,0,6]\n",
        "              }"
      ],
      "execution_count": null,
      "outputs": []
    },
    {
      "cell_type": "code",
      "metadata": {
        "colab": {
          "base_uri": "https://localhost:8080/"
        },
        "id": "ST9XEj-tOuGT",
        "outputId": "15c89f62-c409-4c11-b172-88aee7af8103"
      },
      "source": [
        "for bank in html_url.keys():\n",
        "  try:\n",
        "    #bank,url,attr,table_index,row_start,row_end,col_term,col_interest\n",
        "    df=get_table(bank,html_url[bank],html_index[bank][0],html_index[bank][1],\\\n",
        "                 html_index[bank][2],html_index[bank][3],html_index[bank][4],html_index[bank][5])\n",
        "    df_all = df_all.append(df).reset_index(drop=True)\n",
        "  except:\n",
        "    err_list.append(bank)"
      ],
      "execution_count": null,
      "outputs": [
        {
          "output_type": "stream",
          "text": [
            "/usr/local/lib/python3.7/dist-packages/urllib3/connectionpool.py:847: InsecureRequestWarning: Unverified HTTPS request is being made. Adding certificate verification is strongly advised. See: https://urllib3.readthedocs.io/en/latest/advanced-usage.html#ssl-warnings\n",
            "  InsecureRequestWarning)\n",
            "/usr/local/lib/python3.7/dist-packages/urllib3/connectionpool.py:847: InsecureRequestWarning: Unverified HTTPS request is being made. Adding certificate verification is strongly advised. See: https://urllib3.readthedocs.io/en/latest/advanced-usage.html#ssl-warnings\n",
            "  InsecureRequestWarning)\n",
            "/usr/local/lib/python3.7/dist-packages/urllib3/connectionpool.py:847: InsecureRequestWarning: Unverified HTTPS request is being made. Adding certificate verification is strongly advised. See: https://urllib3.readthedocs.io/en/latest/advanced-usage.html#ssl-warnings\n",
            "  InsecureRequestWarning)\n",
            "/usr/local/lib/python3.7/dist-packages/urllib3/connectionpool.py:847: InsecureRequestWarning: Unverified HTTPS request is being made. Adding certificate verification is strongly advised. See: https://urllib3.readthedocs.io/en/latest/advanced-usage.html#ssl-warnings\n",
            "  InsecureRequestWarning)\n",
            "/usr/local/lib/python3.7/dist-packages/urllib3/connectionpool.py:847: InsecureRequestWarning: Unverified HTTPS request is being made. Adding certificate verification is strongly advised. See: https://urllib3.readthedocs.io/en/latest/advanced-usage.html#ssl-warnings\n",
            "  InsecureRequestWarning)\n",
            "/usr/local/lib/python3.7/dist-packages/urllib3/connectionpool.py:847: InsecureRequestWarning: Unverified HTTPS request is being made. Adding certificate verification is strongly advised. See: https://urllib3.readthedocs.io/en/latest/advanced-usage.html#ssl-warnings\n",
            "  InsecureRequestWarning)\n",
            "/usr/local/lib/python3.7/dist-packages/urllib3/connectionpool.py:847: InsecureRequestWarning: Unverified HTTPS request is being made. Adding certificate verification is strongly advised. See: https://urllib3.readthedocs.io/en/latest/advanced-usage.html#ssl-warnings\n",
            "  InsecureRequestWarning)\n",
            "/usr/local/lib/python3.7/dist-packages/urllib3/connectionpool.py:847: InsecureRequestWarning: Unverified HTTPS request is being made. Adding certificate verification is strongly advised. See: https://urllib3.readthedocs.io/en/latest/advanced-usage.html#ssl-warnings\n",
            "  InsecureRequestWarning)\n",
            "/usr/local/lib/python3.7/dist-packages/urllib3/connectionpool.py:847: InsecureRequestWarning: Unverified HTTPS request is being made. Adding certificate verification is strongly advised. See: https://urllib3.readthedocs.io/en/latest/advanced-usage.html#ssl-warnings\n",
            "  InsecureRequestWarning)\n",
            "/usr/local/lib/python3.7/dist-packages/urllib3/connectionpool.py:847: InsecureRequestWarning: Unverified HTTPS request is being made. Adding certificate verification is strongly advised. See: https://urllib3.readthedocs.io/en/latest/advanced-usage.html#ssl-warnings\n",
            "  InsecureRequestWarning)\n",
            "/usr/local/lib/python3.7/dist-packages/urllib3/connectionpool.py:847: InsecureRequestWarning: Unverified HTTPS request is being made. Adding certificate verification is strongly advised. See: https://urllib3.readthedocs.io/en/latest/advanced-usage.html#ssl-warnings\n",
            "  InsecureRequestWarning)\n",
            "/usr/local/lib/python3.7/dist-packages/urllib3/connectionpool.py:847: InsecureRequestWarning: Unverified HTTPS request is being made. Adding certificate verification is strongly advised. See: https://urllib3.readthedocs.io/en/latest/advanced-usage.html#ssl-warnings\n",
            "  InsecureRequestWarning)\n",
            "/usr/local/lib/python3.7/dist-packages/urllib3/connectionpool.py:847: InsecureRequestWarning: Unverified HTTPS request is being made. Adding certificate verification is strongly advised. See: https://urllib3.readthedocs.io/en/latest/advanced-usage.html#ssl-warnings\n",
            "  InsecureRequestWarning)\n"
          ],
          "name": "stderr"
        }
      ]
    },
    {
      "cell_type": "markdown",
      "metadata": {
        "id": "RYQl0diWYTDW"
      },
      "source": [
        "# Get interest from JSON"
      ]
    },
    {
      "cell_type": "code",
      "metadata": {
        "id": "hFLVbCu8rhAT"
      },
      "source": [
        "#BIDV - JSON\n",
        "#send request to server and recieve responsed text\n",
        "try:\n",
        "  url = 'https://www.bidv.com.vn/ServicesBIDV/InterestDetailServlet'\n",
        "  html_list = get_json(url)\n",
        "\n",
        "  html_list = html_list['hcm']['data']\n",
        "  df = pd.DataFrame(html_list)[['title_vi','VND']]\n",
        "  df.columns=['term','interest']\n",
        "  df['bank']='2. BID'\n",
        "  df_all = df_all.append(df).reset_index(drop=True)\n",
        "except:\n",
        "  err_list.append('2. BID')"
      ],
      "execution_count": null,
      "outputs": []
    },
    {
      "cell_type": "code",
      "metadata": {
        "id": "eVpoYN7TrhAo"
      },
      "source": [
        "#VIB - JSON: the data need to get is \"TDE\" product (pay at the end)\n",
        "#send request to server and recieve responsed text\n",
        "#error when clean if concat to df_VIB_all now, so I do it later at the clean data cell\n",
        "try:\n",
        "  url_json = 'https://www.vib.com.vn/VIBOpenCA/html/jsp/info/new_getSavingRateFromCore.jsp'\n",
        "  html_list = get_json(url_json)\n",
        "  df_VIB=pd.DataFrame(html_list[0],index=[0,])\n",
        "  for i in range(1,len(html_list)):\n",
        "    dict = html_list[i]\n",
        "    df_VIB = df_VIB.append(pd.DataFrame(dict,index=[0,]))\n",
        "\n",
        "  df_VIB=df_VIB.loc[df_VIB['productType']=='TDE',['term','actualRate','effectDate','balance']]\n",
        "  df_VIB=df_VIB[df_VIB['balance']=='4999999999']\n",
        "  df_VIB=df_VIB.loc[df_VIB['effectDate']==df_VIB['effectDate'].max(),['term','actualRate','effectDate','balance']]\n",
        "  df_VIB = df_VIB.drop_duplicates(subset = 'term')\n",
        "  df_VIB = df_VIB.iloc[:,[0,1]]\n",
        "  df_VIB.columns=['term','interest']\n",
        "  df_VIB['bank']='12. VIB'\n",
        "except:\n",
        "  err_list.append('12. VIB')\n"
      ],
      "execution_count": null,
      "outputs": []
    },
    {
      "cell_type": "code",
      "metadata": {
        "id": "Y5REuMilG3fh"
      },
      "source": [
        "#BaoViet Bank\n",
        "try:\n",
        "  url='https://baovietbank.vn/AdTools/GetListInterestByCurr?currency=VND&groupCode=59956903-780b-43a1-970d-cec9ec77cc0f'\n",
        "  wd.get(url)\n",
        "  time.sleep(5)\n",
        "  body=wd.find_element_by_tag_name('body')\n",
        "  text = body.text\n",
        "  my_list = json.loads(text)\n",
        "  df=pd.DataFrame(my_list)\n",
        "  df.drop('id',axis=1,inplace=True)\n",
        "  df=df[df['producT_CODE_TERM']=='6601'] #Interest received at the end of the period\n",
        "  df=df[['terM_INTEREST','interesT_INTEREST_DATE']]\n",
        "  df.columns=['term','interest']\n",
        "  df['bank']='26. BV'\n",
        "  df_all = df_all.append(df).reset_index(drop=True)\n",
        "except:\n",
        "  err_list.append('26. BV')"
      ],
      "execution_count": null,
      "outputs": []
    },
    {
      "cell_type": "code",
      "metadata": {
        "id": "URXIPWhcGvBR"
      },
      "source": [
        "#PGBank\n",
        "try:\n",
        "  url = \"https://www.pgbank.com.vn/api/v1/get-interest-rate?lang=vi\"\n",
        "  r= requests.get(url)\n",
        "  dict = r.json()\n",
        "  dict = dict[\"data\"]\n",
        "  df=pd.DataFrame(dict)\n",
        "  df[\"term\"]=df[\"Tenor\"].astype(str)+df[\"TenorType\"].astype(str)\n",
        "  df = df.iloc[:,[-1,-2]]\n",
        "  df.columns=['term','interest']\n",
        "  df['bank']='33. PGB'\n",
        "  df_all = df_all.append(df).reset_index(drop=True)\n",
        "except:\n",
        "  err_list.append('33. PGB')"
      ],
      "execution_count": null,
      "outputs": []
    },
    {
      "cell_type": "markdown",
      "metadata": {
        "id": "qJ7U0FLWcvHC"
      },
      "source": [
        "# Get table from page source by selenium"
      ]
    },
    {
      "cell_type": "markdown",
      "metadata": {
        "id": "43Xpc5lieZ5p"
      },
      "source": [
        "Put all code in 1 cell will raise error, maybe the second line code run when the first line code (get) doesn't finish"
      ]
    },
    {
      "cell_type": "code",
      "metadata": {
        "id": "Mo4asrJre1M-"
      },
      "source": [
        "#MBBank\n",
        "try:\n",
        "  wd.get('https://mbbank.com.vn/fee')\n",
        "  time.sleep(5)\n",
        "  source = wd.page_source\n",
        "  soup = BeautifulSoup(source)\n",
        "  table = soup.find_all('div',attrs={'id':'rate-info0'})[0]\n",
        "  df = pd.DataFrame(columns=range(0,1000), index = range(500))\n",
        "  df=html_to_df(table,df)\n",
        "  df= df.iloc[1:24,[0,1]]\n",
        "  df.columns=['term','interest']\n",
        "  df['bank']='5. MBB'\n",
        "  df_all = df_all.append(df).reset_index(drop=True)\n",
        "except:\n",
        "  err_list.append('5. MBB')"
      ],
      "execution_count": null,
      "outputs": []
    },
    {
      "cell_type": "code",
      "metadata": {
        "id": "piS6ArCbR2li"
      },
      "source": [
        "#PVCOMBANK\n",
        "try:\n",
        "  url= 'https://www.pvcombank.com.vn/bieu-lai-suat.html'\n",
        "  wd.get(url)\n",
        "  time.sleep(5)\n",
        "  form_control=wd.find_element_by_xpath('//*[@id=\"slSavingProduct\"]')\n",
        "  form_control.click()\n",
        "  li = form_control.find_elements_by_tag_name('option')\n",
        "  for i in range(len(li)):\n",
        "    if li[i].text=='[GD Tại quầy] Tiết kiệm Đại chúng trả lãi cuối kỳ':\n",
        "      li[i].click()\n",
        "  time.sleep(1)\n",
        "  html_doc=wd.page_source\n",
        "  soup = BeautifulSoup(html_doc)\n",
        "  table=soup.find('table',attrs={'id':'tableInterestRate'})\n",
        "  df = pd.DataFrame(columns=range(0,1000), index = range(500))\n",
        "  df=html_to_df(table,df)\n",
        "  df=df.iloc[2:22,[0,1]]\n",
        "  df.columns=['term','interest']\n",
        "  df['bank']='19. PV'\n",
        "  df_all = df_all.append(df).reset_index(drop=True)\n",
        "except:\n",
        "  err_list.append('19. PV')"
      ],
      "execution_count": null,
      "outputs": []
    },
    {
      "cell_type": "code",
      "metadata": {
        "id": "iebfpqeocuAV"
      },
      "source": [
        "#SEABANK\n",
        "try:\n",
        "  url= 'https://www.seabank.com.vn/site#/interest'\n",
        "  wd.get(url)\n",
        "  time.sleep(5)\n",
        "  form_control=wd.find_element_by_xpath('//*[@id=\"main\"]/div[1]/div[3]/div/div/div[2]/select')\n",
        "  form_control.click()\n",
        "  li = form_control.find_elements_by_tag_name('option')\n",
        "  for i in range(len(li)):\n",
        "    if li[i].text=='TIET KIEM LINH LAI CUOI KY':\n",
        "      li[i].click()\n",
        "  html_doc=wd.page_source\n",
        "  soup = BeautifulSoup(html_doc)\n",
        "  table=soup.find('table',attrs={'class':'table table-striped'})\n",
        "  df = pd.DataFrame(columns=range(0,1000), index = range(500))\n",
        "  df=html_to_df(table,df)\n",
        "  df=df.iloc[1:20,[2,3]]\n",
        "  df.columns=['term','interest']\n",
        "  df['bank']='20. SEA'\n",
        "  df_all = df_all.append(df).reset_index(drop=True)\n",
        "except:\n",
        "  err_list.append('20. SEA')"
      ],
      "execution_count": null,
      "outputs": []
    },
    {
      "cell_type": "code",
      "metadata": {
        "id": "mM8SFj_UVd4s"
      },
      "source": [
        "#SEABANK\n",
        "try:\n",
        "  url= 'https://www.seabank.com.vn/site#/interest'\n",
        "  wd.get(url)\n",
        "  time.sleep(10)\n",
        "  form_control=wd.find_element_by_xpath('//*[@id=\"main\"]/div[1]/div[3]/div/div/div[2]/select')\n",
        "  form_control.click()\n",
        "  li = form_control.find_elements_by_tag_name('option')\n",
        "  for i in range(len(li)):\n",
        "    if li[i].text=='TIET KIEM LINH LAI CUOI KY':\n",
        "      li[i].click()\n",
        "  html_doc=wd.page_source\n",
        "  soup = BeautifulSoup(html_doc)\n",
        "  table=soup.find('table',attrs={'class':'table table-striped'})\n",
        "  df = pd.DataFrame(columns=range(0,1000), index = range(500))\n",
        "  df=html_to_df(table,df)\n",
        "  df=df.iloc[1:20,[2,3]]\n",
        "  df.columns=['term','interest']\n",
        "  df['bank']='20. SEA'\n",
        "  df_all = df_all.append(df).reset_index(drop=True)\n",
        "except:\n",
        "  err_list.append('20. SEA')"
      ],
      "execution_count": null,
      "outputs": []
    },
    {
      "cell_type": "code",
      "metadata": {
        "id": "RKZk5gb4OTOa"
      },
      "source": [
        "#Bac A Bank\n",
        "try:\n",
        "  url= 'https://www.baca-bank.vn/SitePages/website/lai-xuat.aspx?ac=L%C3%A3i%20su%E1%BA%A5t&s=LX'\n",
        "  wd.get(url)\n",
        "  time.sleep(5)\n",
        "  xp = '//*[@id=\"ctl00_PlaceHolderMain_g_3d987530_2758_4587_b052_bda8fbe88390_ctl00_DDL_LS\"]'\n",
        "  form_control=wd.find_element_by_xpath(xp)\n",
        "  form_control.click()\n",
        "  li = form_control.find_elements_by_tag_name('option')\n",
        "  for i in range(len(li)):\n",
        "    if li[i].text=='VNĐ':\n",
        "      li[i].click()\n",
        "  html_doc=wd.page_source\n",
        "  soup = BeautifulSoup(html_doc)\n",
        "  table=soup.find_all('table')[0]\n",
        "  df = pd.DataFrame(columns=range(0,1000), index = range(500))\n",
        "  df=html_to_df(table,df)\n",
        "  df=df.iloc[3:23,[0,3]]\n",
        "  df.columns=['term','interest']\n",
        "  df['bank']='22. BAB'\n",
        "  df_all = df_all.append(df).reset_index(drop=True)\n",
        "except:\n",
        "  err_list.append('22. BAB')"
      ],
      "execution_count": null,
      "outputs": []
    },
    {
      "cell_type": "code",
      "metadata": {
        "id": "vnQaR8BSXC35"
      },
      "source": [
        "#SGB\n",
        "try:\n",
        "  wd.get('https://www.saigonbank.com.vn/vi/truy-cap-nhanh/lai-suat')\n",
        "  time.sleep(5)\n",
        "  source = wd.page_source\n",
        "  soup = BeautifulSoup(source)\n",
        "  table = soup.find_all('table')[0]\n",
        "  df = pd.DataFrame(columns=range(0,1000), index = range(500))\n",
        "  df=html_to_df(table,df)\n",
        "  df= df.iloc[4:22,[0,1]]\n",
        "  df.columns=['term','interest']\n",
        "  df['bank']='30. SGB'\n",
        "  df_all = df_all.append(df).reset_index(drop=True) \n",
        "except:\n",
        "  err_list.append('30. SGB')"
      ],
      "execution_count": null,
      "outputs": []
    },
    {
      "cell_type": "code",
      "metadata": {
        "id": "m2XjZ10ZfLnZ"
      },
      "source": [
        "#NCB\n",
        "try:\n",
        "  wd.get('https://www.ncb-bank.vn/vi/lai-suat-tien-gui')\n",
        "  time.sleep(5)\n",
        "  source = wd.page_source\n",
        "  soup = BeautifulSoup(source)\n",
        "  table = soup.find_all('table',attrs={'class':'tb-content'})[0]\n",
        "  df = pd.DataFrame(columns=range(0,1000), index = range(500))\n",
        "  df=html_to_df(table,df)\n",
        "  df= df.iloc[4:25,[0,1]]\n",
        "  df.columns=['term','interest']\n",
        "  df['bank']='31. NCB'\n",
        "  df_all = df_all.append(df).reset_index(drop=True)\n",
        "except:\n",
        "  err_list.append('31. NCB')"
      ],
      "execution_count": null,
      "outputs": []
    },
    {
      "cell_type": "code",
      "metadata": {
        "id": "ZR4eqRHFnADQ"
      },
      "source": [
        "#CBBank\n",
        "try:\n",
        "  wd.get('https://www.cbbank.vn/Pages/InterestRate.aspx')\n",
        "  time.sleep(10)\n",
        "  source = wd.page_source\n",
        "  soup = BeautifulSoup(source)\n",
        "  table = soup.find_all('table',attrs={'class':'MsoNormalTable'})[0]\n",
        "  df = pd.DataFrame(columns=range(0,1000), index = range(500))\n",
        "  df=html_to_df(table,df)\n",
        "  df= df.iloc[4:26,[0,1,2]]\n",
        "  df[0]=df[0].str.replace('\\n','') + ' '\n",
        "  df[1]=df[1].str.replace('\\n','')\n",
        "  df[2]=df[2].str.replace('\\n','')\n",
        "  df[3]=df[0]+''+df[1]\n",
        "  df=df[[3,2]]\n",
        "  df.columns=['term','interest']\n",
        "  df['bank']='32. CBBANK'\n",
        "  df_all = df_all.append(df).reset_index(drop=True)\n",
        "except:\n",
        "  err_list.append('32. CBBANK')"
      ],
      "execution_count": null,
      "outputs": []
    },
    {
      "cell_type": "markdown",
      "metadata": {
        "id": "zNX59ZqeuQLa"
      },
      "source": [
        "# Get link for downloading pdf"
      ]
    },
    {
      "cell_type": "code",
      "metadata": {
        "colab": {
          "base_uri": "https://localhost:8080/"
        },
        "id": "Xn7TKInHaiSZ",
        "outputId": "da8344e5-97e8-4a58-ea1c-74cfbf355de2"
      },
      "source": [
        "#find url for downloading file\n",
        "\n",
        "#Sacombank\n",
        "try:\n",
        "  with timeout(5):\n",
        "    url = 'https://www.sacombank.com.vn/canhan/Pages/lai-suat.aspx'\n",
        "    r=requests.get(url)\n",
        "    soup=BeautifulSoup(r.text,'lxml')\n",
        "    interates=soup.find_all('div',attrs={'class':'fee-item mrb-40'})[0]\n",
        "    deposit = interates.find_all('a')[0]\n",
        "    url = deposit['href']\n",
        "    url_stb ='https://www.sacombank.com.vn'+url\n",
        "except:\n",
        "  pass\n",
        "\n",
        "try:\n",
        "  #VietABank\n",
        "  url = 'https://www.vietabank.com.vn/tien-ich/lai-suat-tien-gui/lai-suat-khach-hang-ca-nhan.html'\n",
        "  r=requests.get(url)\n",
        "  soup=BeautifulSoup(r.text,'lxml')\n",
        "  interates=soup.find_all('div',attrs={'class':'interest-group'})\n",
        "  interate = interates[0]\n",
        "  url_container = interate.find_all('img')[0]\n",
        "  url = url_container['src']\n",
        "  url_vab='https://www.vietabank.com.vn'+url\n",
        "except:\n",
        "  pass\n",
        "\n",
        "try:\n",
        "  #VietBank\n",
        "  url = 'https://www.vietbank.com.vn/ca-nhan/ho-tro/lai-suat'\n",
        "  r=requests.get(url,verify=False)\n",
        "  soup=BeautifulSoup(r.text,'lxml')\n",
        "  interates=soup.find_all('div',attrs={'class':'item-bieumau'})\n",
        "  interate = interates[3]\n",
        "  url_container = interate.find_all('a')[0]\n",
        "  url_vbb = url_container['href']\n",
        "except:\n",
        "  pass\n",
        "\n",
        "#Techcombank\n",
        "try:\n",
        "  with timeout(15):\n",
        "    url = 'https://www.techcombank.com.vn/cong-cu-tien-ich/lai-suat'\n",
        "    r=requests.get(url,verify=False)\n",
        "    soup=BeautifulSoup(r.text,'lxml')\n",
        "    interates=soup.find_all('li',attrs={'class':'item-rates item-rates-select'})\n",
        "    interate = interates[1]\n",
        "    url_container = interate.find_all('a')[0]\n",
        "    url_tcb = 'https://www.techcombank.com.vn' + url_container['href']\n",
        "except:\n",
        "  url_tcb=''\n",
        "  pass\n",
        "\n",
        "#TPBank\n",
        "url = 'https://tpb.vn/wps/wcm/connect/tpbank_data/sa-website/ty-gia-lai-suat-cong-cu-tinh-toan/lai-xuat/danh-cho-khach-hang-ca-nhan/danh-cho-khach-hang-ca-nhan?source=library&srv=cmpnt&cmpntid=c3723702-cc5e-43bc-8123-867223571d0a'\n",
        "r=requests.get(url)\n",
        "soup=BeautifulSoup(r.text,'lxml')\n",
        "interates=soup.find_all('p',attrs={'dir':'ltr'})\n",
        "interate = interates[1]\n",
        "url_container = interate.find_all('a')[0]\n",
        "url_tpb = 'https://tpb.vn' + url_container['href']\n",
        "\n",
        "#VPBank\n",
        "url = 'https://www.vpbank.com.vn/tai-lieu-bieu-mau'\n",
        "r=requests.get(url)\n",
        "soup=BeautifulSoup(r.text,'lxml')\n",
        "interates=soup.find_all('div',attrs={'id':'category_3'})\n",
        "interate = interates[0]\n",
        "url_container = interate.find('div',attrs={'class':'nav-tab__content__detail'})\n",
        "url = url_container.find('a')\n",
        "url_vpb = 'https://www.vpbank.com.vn' + url['href']\n",
        "\n",
        "#Eximbank\n",
        "url = 'https://www.eximbank.com.vn/khachhangcanhan'\n",
        "r=requests.get(url)\n",
        "soup=BeautifulSoup(r.text,'lxml')\n",
        "interates=soup.find_all('div',attrs={'class':'collapse show'})[0]\n",
        "interates2=interates.find_all('div',attrs={'class':'card-body'})[0]\n",
        "interates3=interates2.find_all('div',attrs={'class':'col-md-4 col-lg-6'})[0]\n",
        "interates4=interates3.find_all('ul')\n",
        "interate = interates4[2]\n",
        "url = interate.find('a')\n",
        "url_eib = 'https://www.eximbank.com.vn' + url['href']\n",
        "\n",
        "#ACB\n",
        "try:\n",
        "  url = 'https://www.acb.com.vn/wps/portal?1dmy&page=acb.viewer&urile=wcm%3Apath%3AACBWebsite/acb-vn/personal/tai-khoan-tien-gui/khac/lai-suat'\n",
        "  r=requests.get(url)\n",
        "  soup=BeautifulSoup(r.text,'lxml')\n",
        "  url=soup.find('a',attrs={'class':'breadcrumb'})\n",
        "  url_acb = 'https://www.acb.com.vn' + url['href']\n",
        "except:\n",
        "  url_acb=''\n",
        "#SHB\n",
        "url = 'https://www.shb.com.vn/category/lien-ket-nhanh/lai-suat/'\n",
        "r=requests.get(url)\n",
        "soup=BeautifulSoup(r.text,'lxml')\n",
        "interates=soup.find_all('div',attrs={'class':'detail'})[0]\n",
        "url_container=interates.find_all('a')[0]\n",
        "url_shb = url_container['href']\n",
        "url_shb = url_shb.replace('\\\\/\\\\/','//')"
      ],
      "execution_count": null,
      "outputs": [
        {
          "output_type": "stream",
          "text": [
            "/usr/local/lib/python3.7/dist-packages/urllib3/connectionpool.py:847: InsecureRequestWarning: Unverified HTTPS request is being made. Adding certificate verification is strongly advised. See: https://urllib3.readthedocs.io/en/latest/advanced-usage.html#ssl-warnings\n",
            "  InsecureRequestWarning)\n",
            "/usr/local/lib/python3.7/dist-packages/urllib3/connectionpool.py:847: InsecureRequestWarning: Unverified HTTPS request is being made. Adding certificate verification is strongly advised. See: https://urllib3.readthedocs.io/en/latest/advanced-usage.html#ssl-warnings\n",
            "  InsecureRequestWarning)\n"
          ],
          "name": "stderr"
        }
      ]
    },
    {
      "cell_type": "code",
      "metadata": {
        "id": "aNlYGBTHU84h"
      },
      "source": [
        "try:\n",
        "  #VPBank\n",
        "  url = 'https://www.vpbank.com.vn/tai-lieu-bieu-mau'\n",
        "  r=requests.get(url)\n",
        "  soup=BeautifulSoup(r.text,'lxml')\n",
        "  interates=soup.find_all('div',attrs={'id':'category_3'})\n",
        "  interate = interates[0]\n",
        "  url_container = interate.find('div',attrs={'class':'nav-tab__content__detail'})\n",
        "  url = url_container.find('a')\n",
        "  url_vpb = 'https://www.vpbank.com.vn' + url['href']\n",
        "except:\n",
        "  pass"
      ],
      "execution_count": null,
      "outputs": []
    },
    {
      "cell_type": "code",
      "metadata": {
        "colab": {
          "base_uri": "https://localhost:8080/"
        },
        "id": "w-_7V_lGuEor",
        "outputId": "99858ebd-6bd9-4cb8-c335-50fbbcd3ad93"
      },
      "source": [
        "#Download all pdf file\n",
        "urls = {\n",
        "        '6. ACB':url_acb,\n",
        "        '7. SHB':url_shb,\n",
        "        '8. TCB':url_tcb,\n",
        "        '9. VPB':url_vpb,\n",
        "        #'10. HDB':url_hdb,\n",
        "        '13. TPB':url_tpb,\n",
        "        '17. STB':url_stb,\n",
        "        #'24. VAB':url_vab,\n",
        "        '27. VBB':url_vbb,\n",
        "        '18. EIB':url_eib\n",
        "        }                 \n",
        "for bank in urls.keys():\n",
        "  try:\n",
        "    get_pdf_from_url(bank,urls[bank])\n",
        "  except:\n",
        "    try:\n",
        "      headers = {\"User-Agent\": \"Mozilla/5.0 (Windows NT 10.0; Win64; x64; rv:78.0) Gecko/20100101 Firefox/78.0\"}\n",
        "      r=requests.get(urls[bank],headers=headers)\n",
        "      with open(bank + '.pdf','wb') as f:\n",
        "        f.write(r.content)\n",
        "    except:\n",
        "      pass\n",
        "time.sleep(10)"
      ],
      "execution_count": null,
      "outputs": [
        {
          "output_type": "stream",
          "text": [
            "/usr/local/lib/python3.7/dist-packages/ipykernel_launcher.py:16: DeprecationWarning: URLopener style of invoking requests is deprecated. Use newer urlopen functions/methods\n",
            "  app.launch_new_instance()\n"
          ],
          "name": "stderr"
        }
      ]
    },
    {
      "cell_type": "markdown",
      "metadata": {
        "id": "EnsdiV64HZ5T"
      },
      "source": [
        "# Extract table from pdf"
      ]
    },
    {
      "cell_type": "code",
      "metadata": {
        "colab": {
          "base_uri": "https://localhost:8080/"
        },
        "id": "6rup8GbUuaL6",
        "outputId": "e845866f-2056-4ebb-c7d1-b60c5c778df3"
      },
      "source": [
        "# table index, begin row, ending row, term column, interate column\n",
        "banks = {\n",
        "                '6. ACB':[1,5,-1,0,2],\n",
        "                '8. TCB':[0,5,-1,0,2],\n",
        "                '10. HDB':[0,5,28,0,1],\n",
        "                '13. TPB':[0,9,-1,0,5],\n",
        "                '17. STB':[0,4,-1,0,1],\n",
        "                '27. VBB':[0,2,-1,0,1],\n",
        "                '18. EIB':[0,2,-1,0,6]\n",
        "                }\n",
        "\n",
        "for bank in banks.keys():\n",
        "  try:\n",
        "    #name,table_index,row_start,row_end,col_term,col_interest\n",
        "    df=extract_table(bank,banks[bank][0],\\\n",
        "                     banks[bank][1],banks[bank][2],banks[bank][3],banks[bank][4])\n",
        "    df_all = df_all.append(df).reset_index(drop=True)\n",
        "  except:\n",
        "    err_list.append(bank)"
      ],
      "execution_count": null,
      "outputs": [
        {
          "output_type": "stream",
          "text": [
            "Got stderr: May 27, 2021 2:04:14 AM org.apache.pdfbox.pdmodel.font.FileSystemFontProvider loadDiskCache\n",
            "WARNING: New fonts found, font cache will be re-built\n",
            "May 27, 2021 2:04:15 AM org.apache.pdfbox.pdmodel.font.FileSystemFontProvider <init>\n",
            "WARNING: Building on-disk font cache, this may take a while\n",
            "May 27, 2021 2:04:15 AM org.apache.pdfbox.pdmodel.font.FileSystemFontProvider <init>\n",
            "WARNING: Finished building on-disk font cache, found 17 fonts\n",
            "\n",
            "Got stderr: May 27, 2021 2:04:22 AM org.apache.pdfbox.pdmodel.font.PDTrueTypeFont <init>\n",
            "WARNING: Using fallback font 'LiberationSans-Bold' for 'TimesNewRomanPS-BoldMT'\n",
            "May 27, 2021 2:04:22 AM org.apache.pdfbox.pdmodel.font.PDTrueTypeFont <init>\n",
            "WARNING: Using fallback font 'LiberationSans' for 'TimesNewRomanPSMT'\n",
            "May 27, 2021 2:04:26 AM org.apache.pdfbox.pdmodel.font.PDTrueTypeFont <init>\n",
            "WARNING: Using fallback font 'LiberationSans-Bold' for 'TimesNewRomanPS-BoldMT'\n",
            "May 27, 2021 2:04:27 AM org.apache.pdfbox.pdmodel.font.PDTrueTypeFont <init>\n",
            "WARNING: Using fallback font 'LiberationSans' for 'TimesNewRomanPSMT'\n",
            "May 27, 2021 2:04:27 AM org.apache.pdfbox.pdmodel.font.PDTrueTypeFont <init>\n",
            "WARNING: Using fallback font 'LiberationSans' for 'TimesNewRomanPS-ItalicMT'\n",
            "\n",
            "Got stderr: May 27, 2021 2:04:45 AM org.apache.pdfbox.pdmodel.font.PDTrueTypeFont <init>\n",
            "WARNING: Using fallback font 'LiberationSans' for 'TimesNewRomanPSMT'\n",
            "May 27, 2021 2:04:45 AM org.apache.pdfbox.pdmodel.font.PDTrueTypeFont <init>\n",
            "WARNING: Using fallback font 'LiberationSans-Bold' for 'TimesNewRomanPS-BoldMT'\n",
            "May 27, 2021 2:04:45 AM org.apache.pdfbox.pdmodel.font.PDTrueTypeFont <init>\n",
            "WARNING: Using fallback font 'LiberationSans-Bold' for 'TimesNewRomanPS-BoldItalicMT'\n",
            "May 27, 2021 2:04:46 AM org.apache.pdfbox.pdmodel.font.PDTrueTypeFont <init>\n",
            "WARNING: Using fallback font 'LiberationSans' for 'TimesNewRomanPS-ItalicMT'\n",
            "May 27, 2021 2:04:48 AM org.apache.pdfbox.pdmodel.font.PDTrueTypeFont <init>\n",
            "WARNING: Using fallback font 'LiberationSans' for 'TimesNewRomanPSMT'\n",
            "May 27, 2021 2:04:48 AM org.apache.pdfbox.pdmodel.font.PDTrueTypeFont <init>\n",
            "WARNING: Using fallback font 'LiberationSans-Bold' for 'TimesNewRomanPS-BoldMT'\n",
            "May 27, 2021 2:04:48 AM org.apache.pdfbox.pdmodel.font.PDTrueTypeFont <init>\n",
            "WARNING: Using fallback font 'LiberationSans-Bold' for 'TimesNewRomanPS-BoldItalicMT'\n",
            "May 27, 2021 2:04:48 AM org.apache.pdfbox.pdmodel.font.PDTrueTypeFont <init>\n",
            "WARNING: Using fallback font 'LiberationSans' for 'TimesNewRomanPS-ItalicMT'\n",
            "May 27, 2021 2:04:50 AM org.apache.pdfbox.pdmodel.font.PDTrueTypeFont <init>\n",
            "WARNING: Using fallback font 'LiberationSans' for 'TimesNewRomanPSMT'\n",
            "May 27, 2021 2:04:50 AM org.apache.pdfbox.pdmodel.font.PDTrueTypeFont <init>\n",
            "WARNING: Using fallback font 'LiberationSans-Bold' for 'TimesNewRomanPS-BoldMT'\n",
            "May 27, 2021 2:04:52 AM org.apache.pdfbox.pdmodel.font.PDTrueTypeFont <init>\n",
            "WARNING: Using fallback font 'LiberationSans' for 'TimesNewRomanPSMT'\n",
            "May 27, 2021 2:04:52 AM org.apache.pdfbox.pdmodel.font.PDTrueTypeFont <init>\n",
            "WARNING: Using fallback font 'LiberationSans' for 'TimesNewRomanPS-ItalicMT'\n",
            "May 27, 2021 2:04:52 AM org.apache.pdfbox.pdmodel.font.PDTrueTypeFont <init>\n",
            "WARNING: Using fallback font 'LiberationSans-Bold' for 'TimesNewRomanPS-BoldMT'\n",
            "May 27, 2021 2:04:53 AM org.apache.pdfbox.pdmodel.font.PDTrueTypeFont <init>\n",
            "WARNING: Using fallback font 'LiberationSans' for 'TimesNewRomanPSMT'\n",
            "May 27, 2021 2:04:53 AM org.apache.pdfbox.pdmodel.font.PDTrueTypeFont <init>\n",
            "WARNING: Using fallback font 'LiberationSans-Bold' for 'TimesNewRomanPS-BoldMT'\n",
            "May 27, 2021 2:04:53 AM org.apache.pdfbox.pdmodel.font.PDTrueTypeFont <init>\n",
            "WARNING: Using fallback font 'LiberationSans' for 'TimesNewRomanPSMT'\n",
            "May 27, 2021 2:04:53 AM org.apache.pdfbox.pdmodel.font.PDTrueTypeFont <init>\n",
            "WARNING: Using fallback font 'LiberationSans-Bold' for 'TimesNewRomanPS-BoldMT'\n",
            "\n"
          ],
          "name": "stderr"
        }
      ]
    },
    {
      "cell_type": "markdown",
      "metadata": {
        "id": "KqmUHajaCirr"
      },
      "source": [
        "Some table must be transposed"
      ]
    },
    {
      "cell_type": "code",
      "metadata": {
        "id": "pYPI82dKc03R"
      },
      "source": [
        "#VPB\n",
        "try:\n",
        "  tables = tabula.read_pdf('9. VPB.pdf',pages='all',multiple_tables=True)\n",
        "  df = tables[0].transpose().iloc[3:,[1,6]].reset_index(drop=True)\n",
        "  df.columns = ['term','interest']\n",
        "  df['bank'] = '9. VPB'\n",
        "  df['term']=df['term'].str.replace('T','M')\n",
        "  df_all = df_all.append(df).reset_index(drop=True)\n",
        "except:\n",
        "  err_list.append('9. VPB')"
      ],
      "execution_count": null,
      "outputs": []
    },
    {
      "cell_type": "code",
      "metadata": {
        "id": "iq0RQDzxRqQH"
      },
      "source": [
        "#SHB\n",
        "#bi loi do phan lai suat trong file pdf la hinh anh\n",
        "try:\n",
        "  tables = tabula.read_pdf('7. SHB.pdf',pages='all',multiple_tables=True)\n",
        "  df = tables[2].transpose().iloc[1:,[0,2]].reset_index(drop=True)\n",
        "  df.columns = ['term','interest']\n",
        "  df['bank'] = '7. SHB'\n",
        "  df['term']=df['term'].str.replace('T','M').str.replace('>=','')\n",
        "  df_all = df_all.append(df).reset_index(drop=True)\n",
        "except:\n",
        "  err_list.append('7. SHB')"
      ],
      "execution_count": null,
      "outputs": []
    },
    {
      "cell_type": "markdown",
      "metadata": {
        "id": "1nfCmxjdt323"
      },
      "source": [
        "# OCR"
      ]
    },
    {
      "cell_type": "code",
      "metadata": {
        "id": "WIfl4qm9gnrV"
      },
      "source": [
        "try:\n",
        "  #Viet A Bank\n",
        "  #extract text form jpg file\n",
        "  img = cv2.imread('24. VAB.jpg')\n",
        "  custom_config = r'--oem 3 --psm 6'\n",
        "  data=pytesseract.image_to_data(img,lang='eng',config=custom_config,output_type='data.frame')\n",
        "  data=data.dropna(subset=['text'])\n",
        "\n",
        "  #create some list\n",
        "  text = data['text'].values\n",
        "  conf=data['conf'].values\n",
        "  par=data['par_num'].values\n",
        "  line=data['line_num'].values\n",
        "  left=data['left'].values\n",
        "  text_list=[[]]\n",
        "  left_list=[[]]\n",
        "\n",
        "  #convert text to list of list of words, based on their line\n",
        "  row=0\n",
        "  for i in range(len(par)):\n",
        "    if i==0:\n",
        "      pass\n",
        "    elif (par[i]!=par[i-1])|(line[i]!=line[i-1]):\n",
        "      row+=1\n",
        "      text_list.append([])\n",
        "      left_list.append([])\n",
        "    text_list[row].append(text[i])\n",
        "    left_list[row].append(left[i])\n",
        "\n",
        "  #find the position of interate table\n",
        "  for i in range(len(text_list)):\n",
        "    if (text_list[i][0]=='Ky')&(text_list[i][1]=='han'):\n",
        "      break\n",
        "  start_line=i+1\n",
        "  for i in range(start_line,len(text_list)):\n",
        "    if (text_list[i][0]=='36'):\n",
        "      break\n",
        "  end_line=i\n",
        "  table=text_list[start_line:end_line+1]\n",
        "\n",
        "  #extract infomation from the table and put to dataframe\n",
        "  term=[]\n",
        "  interate=[]\n",
        "  for i in range(len(table)):\n",
        "    term.append(table[i][0]+'M')\n",
        "    interate.append(table[i][2])\n",
        "  df=pd.DataFrame(zip(term,interate))\n",
        "\n",
        "  #clean and add to df_all\n",
        "  df.columns = ['term','interest']\n",
        "  df['bank'] = '24. VAB'\n",
        "  df_all = df_all.append(df).reset_index(drop=True)\n",
        "except:\n",
        "  pass"
      ],
      "execution_count": null,
      "outputs": []
    },
    {
      "cell_type": "markdown",
      "metadata": {
        "id": "WN5aGC1nkcLH"
      },
      "source": [
        "# Clean final data"
      ]
    },
    {
      "cell_type": "code",
      "metadata": {
        "id": "x1_qW6FUI4V5"
      },
      "source": [
        "df_backup = df_all.copy()\n",
        "#df_all=df_backup.copy()"
      ],
      "execution_count": null,
      "outputs": []
    },
    {
      "cell_type": "code",
      "metadata": {
        "colab": {
          "base_uri": "https://localhost:8080/"
        },
        "id": "vxr1ro91uodG",
        "outputId": "d46ef19b-cfc9-4b0b-af9a-a632d80fd52b"
      },
      "source": [
        "\n",
        "#ACB\n",
        "subset = (df_all['bank']=='6. ACB') & (df_all['term']!= '13 Tháng') & (df_all['term'] != '1 – 3 tuần')\n",
        "df_all.loc[subset,'interest'] = df_all.loc[subset,'interest'].str[10:14]\n",
        "#TCB\n",
        "subset = (df_all['bank']=='8. TCB') & (df_all['term']!='12M')\n",
        "df_all.loc[subset,'interest'] = df_all.loc[subset,'interest'].str[:4].str.strip()\n",
        "#TPB\n",
        "try:\n",
        "  subset1 = (df_all['bank']=='13. TPB') & (df_all['term']=='12M')\n",
        "  subset2 = (df_all['bank']=='13. TPB') & (df_all['term']=='364 ngày')\n",
        "  df_all.loc[df_all['bank']=='13. TPB','interest']=df_all.loc[df_all['bank']=='13. TPB','interest'].str[0:4].str.strip()\n",
        "  df_all.loc[subset1,'interest']=df_all.loc[subset2,'interest'].values[0]\n",
        "except:\n",
        "  pass\n",
        "df_all.shape"
      ],
      "execution_count": null,
      "outputs": [
        {
          "output_type": "execute_result",
          "data": {
            "text/plain": [
              "(637, 3)"
            ]
          },
          "metadata": {
            "tags": []
          },
          "execution_count": 28
        }
      ]
    },
    {
      "cell_type": "code",
      "metadata": {
        "id": "YbaFdHU4geFk"
      },
      "source": [
        "term_replace = {'\\xa0':' ',\n",
        "                '\\r':'',\n",
        "                '\\n':'',\n",
        "                'Không kỳ hạn':'KKH',\n",
        "                'không kỳ hạn':'KKH',\n",
        "                ' tuần':'W',\n",
        "                ' Tuần':'W',\n",
        "                ' tháng':'M',\n",
        "                'tháng':'M',\n",
        "                ' Tháng':'M',\n",
        "                ' ngày':'D',\n",
        "                ' Ngày':'D',\n",
        "                'Dưới 1 tháng':'1W',\n",
        "                '7D':'1W',\n",
        "                '14D':'2W',\n",
        "                '21D':'3W'}\n",
        "#replace ký tự\n",
        "for term in df_all['term']:\n",
        "  for old_char in term_replace.keys():\n",
        "    df_all['term'] = df_all['term'].str.replace(old_char,term_replace[old_char])\n",
        "\n",
        "#lấy số bỏ chữ\n",
        "for i in range(len(df_all['term'])):\n",
        "  try:\n",
        "    string = str(df_all['term'][i])\n",
        "    position = re.search(r'\\d', string).start()\n",
        "    df_all['term'][i] = string[position:position+4].replace(' ','')\n",
        "    #bỏ số 0 ở đầu\n",
        "    if df_all['term'][i][0]=='0':\n",
        "      df_all['term'][i]=df_all['term'][i][1:]\n",
        "  except: pass\n",
        "\n",
        "#replace ký tự lãi suất\n",
        "interest_replace = {',':'.',\n",
        "                    '%':'',\n",
        "                    '\\xa0':' ',\n",
        "                    '\\r':'',\n",
        "                    '\\n':'',\n",
        "                    '(i)':'',\n",
        "                    '-':''\n",
        "                    }\n",
        "\n",
        "for interest in df_all['interest']:\n",
        "  for old_char in interest_replace.keys():\n",
        "    df_all['interest'] = df_all['interest'].str.replace(old_char,interest_replace[old_char]).str.strip()\n",
        "\n",
        "df_all['interest'] = df_all['interest'].str[0:4].str.strip()\n",
        "df_all = df_all.dropna(how='all')\n",
        "df_all = df_all.append(df_VIB).reset_index(drop=True)"
      ],
      "execution_count": null,
      "outputs": []
    },
    {
      "cell_type": "code",
      "metadata": {
        "id": "6kZ0N2gMhSqn"
      },
      "source": [
        "term_list = {'term':['KKH','1W','1M','2M','3M','6M','9M','12M','13M','15M','18M','24M','36M','60M'],\n",
        "             'term_index':range(14)}\n",
        "df_term_list = pd.DataFrame(term_list)\n",
        "df_term_list['key']=1\n",
        "bank = df_all['bank'].drop_duplicates()\n",
        "df_bank = pd.DataFrame({'bank':bank}).reset_index(drop=True)\n",
        "df_bank['bank_index']=df_bank['bank'].str[0:2].str.replace('.','').astype('float')\n",
        "df_bank['key']=1\n",
        "bank_term = pd.merge(df_term_list,df_bank,on='key').drop('key',1)\n",
        "df_all_merge = df_all.merge(bank_term,on=['bank','term'],how='right')\n",
        "df_all_merge = df_all_merge.sort_values(['bank_index','term_index']).reset_index(drop=True)\n",
        "df_all_merge['date']=datetime.today().astimezone(tz.gettz('Asia/Hanoi'))"
      ],
      "execution_count": null,
      "outputs": []
    },
    {
      "cell_type": "code",
      "metadata": {
        "id": "bBleU__ZAfEY"
      },
      "source": [
        "#fill na\n",
        "for i in range(len(df_all_merge['term'])):\n",
        "  if pd.isnull(df_all_merge.iloc[i,1]):\n",
        "    if (df_all_merge.iloc[i,0] == 'KKH'):\n",
        "      df_all_merge.iloc[i,1] = 0.1\n",
        "    else:\n",
        "      df_all_merge.iloc[i,1] = df_all_merge.iloc[i-1,1]"
      ],
      "execution_count": null,
      "outputs": []
    },
    {
      "cell_type": "code",
      "metadata": {
        "id": "rLsWuyBuls1S"
      },
      "source": [
        "df_all_merge.drop_duplicates(subset=['term','bank'])\n",
        "df_all_merge.to_csv('interest.csv')"
      ],
      "execution_count": null,
      "outputs": []
    },
    {
      "cell_type": "markdown",
      "metadata": {
        "id": "3EW-28W49LdO"
      },
      "source": [
        "# Pivot table"
      ]
    },
    {
      "cell_type": "code",
      "metadata": {
        "id": "aLyO9gqK1A2F",
        "colab": {
          "base_uri": "https://localhost:8080/"
        },
        "outputId": "a617f74f-72e6-49f8-a5c0-0346a494896c"
      },
      "source": [
        "df_add = df_all_merge.head(0)\n",
        "df_add['bank_index']=range(1,36)\n",
        "df_add['bank']=['1. AGR', '2. BID', '3. CTG', '4. VCB', '5. MBB', '6. ACB', '7. SHB', '8. TCB', '9. VPB', '10. HDB', '11. LPB', '12. VIB', '13. TPB', '14. ABB', '15. OCB', '16. SCB', '17. STB', '18. EIB', '19. PV', '20. SEA', '21. MSB', '22. BAB', '23. EAB', '24. VAB', '25. NAB', '26. BV', '27. VBB', '28. BVB', '29. KLB', '30. SGB', '31. NCB', '32. CBBANK', '33. PGB', '34. OCEAN', '35. GPBANK']\n",
        "df_add.loc[:,'term']='KKH'\n",
        "df_add.loc[:,'interest']=0\n",
        "df_add.loc[:,'term_index']=0\n",
        "df=df_all_merge.append(df_add)"
      ],
      "execution_count": null,
      "outputs": [
        {
          "output_type": "stream",
          "text": [
            "/usr/local/lib/python3.7/dist-packages/ipykernel_launcher.py:2: SettingWithCopyWarning: \n",
            "A value is trying to be set on a copy of a slice from a DataFrame.\n",
            "Try using .loc[row_indexer,col_indexer] = value instead\n",
            "\n",
            "See the caveats in the documentation: https://pandas.pydata.org/pandas-docs/stable/user_guide/indexing.html#returning-a-view-versus-a-copy\n",
            "  \n",
            "/usr/local/lib/python3.7/dist-packages/ipykernel_launcher.py:3: SettingWithCopyWarning: \n",
            "A value is trying to be set on a copy of a slice from a DataFrame.\n",
            "Try using .loc[row_indexer,col_indexer] = value instead\n",
            "\n",
            "See the caveats in the documentation: https://pandas.pydata.org/pandas-docs/stable/user_guide/indexing.html#returning-a-view-versus-a-copy\n",
            "  This is separate from the ipykernel package so we can avoid doing imports until\n",
            "/usr/local/lib/python3.7/dist-packages/pandas/core/indexing.py:1763: SettingWithCopyWarning: \n",
            "A value is trying to be set on a copy of a slice from a DataFrame.\n",
            "Try using .loc[row_indexer,col_indexer] = value instead\n",
            "\n",
            "See the caveats in the documentation: https://pandas.pydata.org/pandas-docs/stable/user_guide/indexing.html#returning-a-view-versus-a-copy\n",
            "  isetter(loc, value)\n"
          ],
          "name": "stderr"
        }
      ]
    },
    {
      "cell_type": "code",
      "metadata": {
        "id": "_QT64xAySmLB",
        "colab": {
          "base_uri": "https://localhost:8080/"
        },
        "outputId": "a0c9816e-3d60-4d07-af61-682d8f19a2aa"
      },
      "source": [
        "df.loc[df['interest']=='','interest']=np.nan\n",
        "#df['interest']=df['interest'].str.replace(\"0 .2\",\"0.2\")\n",
        "df['interest']=df['interest'].astype('float')\n",
        "pvt =df.pivot_table(values='interest',index=['bank_index','bank']\\\n",
        "                         ,columns=['term_index','term'],dropna=True,aggfunc='max')\n",
        "pvt.to_excel('interest.xlsx')\n",
        "print(pvt)\n",
        "df_backup.to_csv('before_cleaning.csv')"
      ],
      "execution_count": null,
      "outputs": [
        {
          "output_type": "stream",
          "text": [
            "term_index               0     1     2     3   ...    10    11    12    13\n",
            "term                    KKH    1W    1M    2M  ...   18M   24M   36M   60M\n",
            "bank_index bank                                ...                        \n",
            "1.0        1. AGR      0.10  0.10  3.10  3.10  ...  5.60  5.60  5.60  5.60\n",
            "2.0        2. BID      0.10  0.10  3.10  3.10  ...  5.60  5.60  5.60  5.60\n",
            "3.0        3. CTG      0.10  0.10  3.10  3.10  ...  5.60  5.60  5.60  5.60\n",
            "4.0        4. VCB      0.10  0.20  2.90  2.90  ...  5.50  5.30  5.30  5.30\n",
            "5.0        5. MBB      0.10  0.10  3.00  3.10  ...  5.70  5.35  6.20  6.20\n",
            "6.0        6. ACB      0.10  0.10  3.15  3.25  ...  6.20  6.20  6.20  6.20\n",
            "7.0        7. SHB      0.00   NaN   NaN   NaN  ...   NaN   NaN   NaN   NaN\n",
            "8.0        8. TCB      0.03  0.03  2.45  2.45  ...  4.50  4.50  4.50  4.50\n",
            "9.0        9. VPB      0.10  0.10  3.38  3.70  ...  5.30  5.30  5.30  5.30\n",
            "10.0       10. HDB     0.00   NaN   NaN   NaN  ...   NaN   NaN   NaN   NaN\n",
            "11.0       11. LPB     0.10  0.10  3.10  3.10  ...  5.80  5.80  5.80  6.99\n",
            "12.0       12. VIB     0.10  0.10  3.60  3.60  ...  6.10  6.20  6.20  6.20\n",
            "13.0       13. TPB     0.10  0.10  3.60  3.60  ...  6.45  6.45  6.45  6.45\n",
            "14.0       14. ABB     0.20  0.20  3.35  3.55  ...  6.00  6.00  6.30  6.30\n",
            "15.0       15. OCB     0.10  0.10  3.75  3.75  ...  6.20  6.35  6.40  6.40\n",
            "16.0       16. SCB     0.10  0.10  3.95  3.95  ...  6.80  6.80  6.80  6.80\n",
            "17.0       17. STB     0.10  0.10  3.20  3.50  ...  6.10  6.30  6.30  6.30\n",
            "18.0       18. EIB     0.10  0.20  3.50  3.50  ...  6.30  6.30  6.20  6.20\n",
            "19.0       19. PV      0.10  0.20  3.90  3.90  ...  6.55  6.60  6.65  6.65\n",
            "20.0       20. SEA     0.10  0.10  3.50  3.50  ...  5.70  5.70  5.70  5.70\n",
            "21.0       21. MSB     0.10  0.10  3.00  3.00  ...  5.60  5.60  5.60  5.60\n",
            "22.0       22. BAB     0.10  0.20  3.60  3.60  ...  6.50  6.50  6.50  6.50\n",
            "23.0       23. EAB     0.10  0.20  3.40  3.40  ...  6.10  6.10  6.10  6.10\n",
            "24.0       24. VAB     0.00   NaN   NaN   NaN  ...   NaN   NaN   NaN   NaN\n",
            "25.0       25. NAB     0.10  0.20  3.95  3.95  ...  6.70   NaN   NaN   NaN\n",
            "26.0       26. BV      0.20  0.20  3.35  3.40  ...  6.55  6.55  6.55  6.55\n",
            "27.0       27. VBB     0.10  0.10  0.10  0.10  ...  0.10  0.10  0.10  0.10\n",
            "28.0       28. BVB     0.10  0.10  3.80  3.80  ...  6.20  6.30  6.50  6.70\n",
            "29.0       29. KLB     0.10  0.20  3.10  3.30  ...  6.75  6.75  6.75  6.75\n",
            "30.0       30. SGB     0.10  0.20  3.10  3.20  ...  6.00  6.00  6.00  6.00\n",
            "31.0       31. NCB     0.00   NaN   NaN   NaN  ...   NaN   NaN   NaN   NaN\n",
            "32.0       32. CBBANK  0.10  0.20  3.50  3.50  ...  6.70  6.70  6.70  6.70\n",
            "33.0       33. PGB     0.10  0.10  0.10  0.10  ...  0.10  0.10  0.10  0.10\n",
            "34.0       34. OCEAN   0.20  0.20  3.30  3.40  ...  6.60  6.60  6.60  6.60\n",
            "35.0       35. GPBANK  0.20  0.20  4.00  4.00  ...  6.00  6.00  6.00  6.00\n",
            "\n",
            "[35 rows x 14 columns]\n"
          ],
          "name": "stdout"
        }
      ]
    },
    {
      "cell_type": "code",
      "metadata": {
        "id": "nE8hDBL8dkap",
        "colab": {
          "base_uri": "https://localhost:8080/"
        },
        "outputId": "dad1e32e-fda5-482f-dbaf-2a77e923a17a"
      },
      "source": [
        "print(err_list)"
      ],
      "execution_count": null,
      "outputs": [
        {
          "output_type": "stream",
          "text": [
            "['31. NCB', '10. HDB', '7. SHB']\n"
          ],
          "name": "stdout"
        }
      ]
    }
  ]
}